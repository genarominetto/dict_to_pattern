{
  "nbformat": 4,
  "nbformat_minor": 0,
  "metadata": {
    "colab": {
      "provenance": [],
      "include_colab_link": true
    },
    "kernelspec": {
      "name": "python3",
      "display_name": "Python 3"
    },
    "language_info": {
      "name": "python"
    }
  },
  "cells": [
    {
      "cell_type": "markdown",
      "metadata": {
        "id": "view-in-github",
        "colab_type": "text"
      },
      "source": [
        "<a href=\"https://colab.research.google.com/github/genarominetto/dict_to_pattern/blob/main/main.ipynb\" target=\"_parent\"><img src=\"https://colab.research.google.com/assets/colab-badge.svg\" alt=\"Open In Colab\"/></a>"
      ]
    },
    {
      "cell_type": "code",
      "source": [
        "%%capture\n",
        "# @title Set Up\n",
        "!git clone https://github.com/genarominetto/dict_to_pattern.git\n",
        "import sys\n",
        "import os\n",
        "\n",
        "# Add necessary directories to sys.path\n",
        "sys.path.append('/content/dict_to_pattern/scaffolders/facade')\n",
        "sys.path.append('/content/dict_to_pattern/scaffolders/builder')\n",
        "\n",
        "# Import Facade and Builder Project Creators\n",
        "from dict_to_pattern.scaffolders.facade.facade_project_creator import FacadeProjectCreator\n",
        "from dict_to_pattern.scaffolders.builder.builder_project_creator import BuilderProjectCreator\n",
        "\n",
        "# Change back to the base directory if needed\n",
        "os.chdir('/content')\n",
        "\n",
        "# Import Jupyter utilities\n",
        "from dict_to_pattern.jupyter import compress_and_download\n",
        "from dict_to_pattern.jupyter import run_tests\n",
        "from dict_to_pattern.jupyter import print_directory_tree\n"
      ],
      "metadata": {
        "cellView": "form",
        "id": "semmWfDFI44k"
      },
      "execution_count": 1,
      "outputs": []
    },
    {
      "cell_type": "code",
      "source": [
        "# @title Facade Scaffolder\n",
        "project_name = \"FacadeProject\"\n",
        "project_structure = {\n",
        "    \"Car\": {\n",
        "        \"Engine\": {\n",
        "            \"Cylinders\": {},\n",
        "            \"Pistons\": {}\n",
        "        },\n",
        "        \"Chassis\": {}\n",
        "    },\n",
        "    \"Driver\": {}\n",
        "}\n",
        "\n",
        "root_module = \"\" # \"machines.vehicles\"\n",
        "creator = FacadeProjectCreator(project_name, project_structure, root_module)\n",
        "creator.create_project()\n",
        "if run_tests(project_name):\n",
        "    print_directory_tree(project_name)\n",
        "    compress_and_download(project_name)\n"
      ],
      "metadata": {
        "colab": {
          "base_uri": "https://localhost:8080/",
          "height": 555
        },
        "id": "GGHHGQLjUgSD",
        "outputId": "acf50595-a0d2-4101-d4d4-a584c0f6283c"
      },
      "execution_count": 4,
      "outputs": [
        {
          "output_type": "stream",
          "name": "stdout",
          "text": [
            "======================================= test session starts ========================================\n",
            "platform linux -- Python 3.10.12, pytest-7.4.4, pluggy-1.5.0\n",
            "rootdir: /content/FacadeProject\n",
            "configfile: pytest.ini\n",
            "plugins: anyio-3.7.1, typeguard-4.3.0\n",
            "collected 4 items\n",
            "\n",
            "FacadeProject/tests/test_car.py ...                                                          [ 75%]\n",
            "FacadeProject/tests/test_driver.py .                                                         [100%]\n",
            "\n",
            "======================================== 4 passed in 0.04s =========================================\n",
            "\n",
            "\n",
            ".\n",
            "├── car\n",
            "│   ├── car_modules\n",
            "│   │   ├── engine_modules\n",
            "│   │   │   ├── cylinders.py\n",
            "│   │   │   └── pistons.py\n",
            "│   │   ├── chassis.py\n",
            "│   │   └── engine.py\n",
            "│   └── car.py\n",
            "├── driver\n",
            "│   └── driver.py\n",
            "├── tests\n",
            "│   ├── test_car.py\n",
            "│   └── test_driver.py\n",
            "├── main.py\n",
            "└── pytest.ini\n",
            "\n",
            "5 directories, 10 files\n"
          ]
        },
        {
          "output_type": "display_data",
          "data": {
            "text/plain": [
              "<IPython.core.display.Javascript object>"
            ],
            "application/javascript": [
              "\n",
              "    async function download(id, filename, size) {\n",
              "      if (!google.colab.kernel.accessAllowed) {\n",
              "        return;\n",
              "      }\n",
              "      const div = document.createElement('div');\n",
              "      const label = document.createElement('label');\n",
              "      label.textContent = `Downloading \"${filename}\": `;\n",
              "      div.appendChild(label);\n",
              "      const progress = document.createElement('progress');\n",
              "      progress.max = size;\n",
              "      div.appendChild(progress);\n",
              "      document.body.appendChild(div);\n",
              "\n",
              "      const buffers = [];\n",
              "      let downloaded = 0;\n",
              "\n",
              "      const channel = await google.colab.kernel.comms.open(id);\n",
              "      // Send a message to notify the kernel that we're ready.\n",
              "      channel.send({})\n",
              "\n",
              "      for await (const message of channel.messages) {\n",
              "        // Send a message to notify the kernel that we're ready.\n",
              "        channel.send({})\n",
              "        if (message.buffers) {\n",
              "          for (const buffer of message.buffers) {\n",
              "            buffers.push(buffer);\n",
              "            downloaded += buffer.byteLength;\n",
              "            progress.value = downloaded;\n",
              "          }\n",
              "        }\n",
              "      }\n",
              "      const blob = new Blob(buffers, {type: 'application/binary'});\n",
              "      const a = document.createElement('a');\n",
              "      a.href = window.URL.createObjectURL(blob);\n",
              "      a.download = filename;\n",
              "      div.appendChild(a);\n",
              "      a.click();\n",
              "      div.remove();\n",
              "    }\n",
              "  "
            ]
          },
          "metadata": {}
        },
        {
          "output_type": "display_data",
          "data": {
            "text/plain": [
              "<IPython.core.display.Javascript object>"
            ],
            "application/javascript": [
              "download(\"download_4397292d-aaa0-4a21-af37-6904ffe5a1b0\", \"FacadeProject.zip\", 12929)"
            ]
          },
          "metadata": {}
        }
      ]
    },
    {
      "cell_type": "code",
      "source": [
        "# @title Builder Scaffolder\n",
        "project_name = \"BuilderProject\"\n",
        "project_structure = {\n",
        "    \"product\": \"Airplane\",\n",
        "    \"types\": [\"CommercialJet\", \"PrivateJet\"],\n",
        "    \"parts\": [\"Fuselage\", \"Wings\", \"Wheels\"],\n",
        "    \"parent_steps\": [\"build_fuselage\", \"attach_wings\"],\n",
        "    \"child_steps\": [\"install_interior\", \"test_flight\"]\n",
        "}\n",
        "\n",
        "\n",
        "root_module = \"\"\n",
        "creator = BuilderProjectCreator(project_name, project_structure, root_module)\n",
        "creator.create_project()\n",
        "if run_tests(project_name):\n",
        "    print_directory_tree(project_name)\n",
        "    compress_and_download(project_name)\n"
      ],
      "metadata": {
        "id": "Gxt_9CpSMmCF",
        "outputId": "bcdcc39c-9533-48aa-f19b-6e6c2d4158d0",
        "colab": {
          "base_uri": "https://localhost:8080/",
          "height": 607
        }
      },
      "execution_count": 5,
      "outputs": [
        {
          "output_type": "stream",
          "name": "stdout",
          "text": [
            "======================================= test session starts ========================================\n",
            "platform linux -- Python 3.10.12, pytest-7.4.4, pluggy-1.5.0\n",
            "rootdir: /content/BuilderProject\n",
            "configfile: pytest.ini\n",
            "plugins: anyio-3.7.1, typeguard-4.3.0\n",
            "collected 2 items\n",
            "\n",
            "BuilderProject/tests/test_commercial_jet_airplane.py .                                       [ 50%]\n",
            "BuilderProject/tests/test_private_jet_airplane.py .                                          [100%]\n",
            "\n",
            "======================================== 2 passed in 0.03s =========================================\n",
            "\n",
            "\n",
            ".\n",
            "├── airplane_builder\n",
            "│   ├── builders\n",
            "│   │   ├── abstract\n",
            "│   │   │   └── airplane_builder.py\n",
            "│   │   ├── commercial_jet_airplane_builder.py\n",
            "│   │   └── private_jet_airplane_builder.py\n",
            "│   ├── product\n",
            "│   │   ├── airplane_parts\n",
            "│   │   │   ├── fuselage.py\n",
            "│   │   │   ├── wheels.py\n",
            "│   │   │   └── wings.py\n",
            "│   │   └── airplane.py\n",
            "│   └── director.py\n",
            "├── tests\n",
            "│   ├── test_commercial_jet_airplane.py\n",
            "│   └── test_private_jet_airplane.py\n",
            "├── main.py\n",
            "└── pytest.ini\n",
            "\n",
            "6 directories, 12 files\n"
          ]
        },
        {
          "output_type": "display_data",
          "data": {
            "text/plain": [
              "<IPython.core.display.Javascript object>"
            ],
            "application/javascript": [
              "\n",
              "    async function download(id, filename, size) {\n",
              "      if (!google.colab.kernel.accessAllowed) {\n",
              "        return;\n",
              "      }\n",
              "      const div = document.createElement('div');\n",
              "      const label = document.createElement('label');\n",
              "      label.textContent = `Downloading \"${filename}\": `;\n",
              "      div.appendChild(label);\n",
              "      const progress = document.createElement('progress');\n",
              "      progress.max = size;\n",
              "      div.appendChild(progress);\n",
              "      document.body.appendChild(div);\n",
              "\n",
              "      const buffers = [];\n",
              "      let downloaded = 0;\n",
              "\n",
              "      const channel = await google.colab.kernel.comms.open(id);\n",
              "      // Send a message to notify the kernel that we're ready.\n",
              "      channel.send({})\n",
              "\n",
              "      for await (const message of channel.messages) {\n",
              "        // Send a message to notify the kernel that we're ready.\n",
              "        channel.send({})\n",
              "        if (message.buffers) {\n",
              "          for (const buffer of message.buffers) {\n",
              "            buffers.push(buffer);\n",
              "            downloaded += buffer.byteLength;\n",
              "            progress.value = downloaded;\n",
              "          }\n",
              "        }\n",
              "      }\n",
              "      const blob = new Blob(buffers, {type: 'application/binary'});\n",
              "      const a = document.createElement('a');\n",
              "      a.href = window.URL.createObjectURL(blob);\n",
              "      a.download = filename;\n",
              "      div.appendChild(a);\n",
              "      a.click();\n",
              "      div.remove();\n",
              "    }\n",
              "  "
            ]
          },
          "metadata": {}
        },
        {
          "output_type": "display_data",
          "data": {
            "text/plain": [
              "<IPython.core.display.Javascript object>"
            ],
            "application/javascript": [
              "download(\"download_295c1dd0-5b18-43ad-b284-c1865e9efc50\", \"BuilderProject.zip\", 17547)"
            ]
          },
          "metadata": {}
        }
      ]
    }
  ]
}