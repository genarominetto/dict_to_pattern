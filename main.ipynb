{
  "nbformat": 4,
  "nbformat_minor": 0,
  "metadata": {
    "colab": {
      "provenance": [],
      "include_colab_link": true
    },
    "kernelspec": {
      "name": "python3",
      "display_name": "Python 3"
    },
    "language_info": {
      "name": "python"
    }
  },
  "cells": [
    {
      "cell_type": "markdown",
      "metadata": {
        "id": "view-in-github",
        "colab_type": "text"
      },
      "source": [
        "<a href=\"https://colab.research.google.com/github/genarominetto/dict_to_pattern/blob/main/main.ipynb\" target=\"_parent\"><img src=\"https://colab.research.google.com/assets/colab-badge.svg\" alt=\"Open In Colab\"/></a>"
      ]
    },
    {
      "cell_type": "code",
      "source": [
        "%%capture\n",
        "# @title Set Up\n",
        "!git clone https://github.com/genarominetto/dict_to_pattern.git\n",
        "!pip install black\n",
        "\n",
        "# Import Jupyter utilities\n",
        "from dict_to_pattern.jupyter import format_code_with_black\n",
        "from dict_to_pattern.jupyter import compress_and_download\n",
        "from dict_to_pattern.jupyter import run_tests\n",
        "from dict_to_pattern.jupyter import print_directory_tree\n",
        "from dict_to_pattern.jupyter import ModuleManager\n",
        "\n",
        "module_paths = {\n",
        "    'facade': '/content/dict_to_pattern/scaffolders/facade',\n",
        "    'builder': '/content/dict_to_pattern/scaffolders/builder',\n",
        "    'state': '/content/dict_to_pattern/scaffolders/state',\n",
        "    'composite': '/content/dict_to_pattern/scaffolders/composite'\n",
        "}\n",
        "\n",
        "module_manager = ModuleManager(module_paths)\n",
        "\n"
      ],
      "metadata": {
        "cellView": "form",
        "id": "semmWfDFI44k"
      },
      "execution_count": 1,
      "outputs": []
    },
    {
      "cell_type": "code",
      "source": [
        "# @title Builder Scaffolder\n",
        "module_manager.set_module('builder')\n",
        "from dict_to_pattern.scaffolders.builder.builder_project_creator import BuilderProjectCreator\n",
        "\n",
        "project_name = \"BuilderProject\"\n",
        "project_structure = {\n",
        "    \"product\": \"Pizza\",\n",
        "    \"types\": [\"Margherita\", \"Pepperoni\"],\n",
        "    \"parts\": [\"Dough\", \"Sauce\", \"Cheese\", \"Toppings\"],\n",
        "    \"parent_steps\": [\"prepare_dough\", \"add_sauce\", \"add_cheese\"],\n",
        "    \"child_steps\": [\"add_toppings\", \"bake_pizza\"]\n",
        "}\n",
        "\n",
        "root_module = \"\"\n",
        "creator = BuilderProjectCreator(project_name, project_structure, root_module)\n",
        "creator.create_project()\n",
        "\n",
        "format_code_with_black(project_name)\n",
        "if run_tests(project_name):\n",
        "    print_directory_tree(project_name)\n",
        "    compress_and_download(project_name)\n"
      ],
      "metadata": {
        "id": "Gxt_9CpSMmCF",
        "outputId": "91378a16-d161-43aa-f54f-f21d3c9710c0",
        "colab": {
          "base_uri": "https://localhost:8080/",
          "height": 660
        }
      },
      "execution_count": 2,
      "outputs": [
        {
          "output_type": "stream",
          "name": "stdout",
          "text": [
            "Code formatting complete.\n",
            "======================================= test session starts ========================================\n",
            "platform linux -- Python 3.10.12, pytest-7.4.4, pluggy-1.5.0\n",
            "rootdir: /content/BuilderProject\n",
            "configfile: pytest.ini\n",
            "plugins: anyio-3.7.1, typeguard-4.3.0\n",
            "collected 2 items\n",
            "\n",
            "BuilderProject/tests/test_margherita_pizza.py .                                              [ 50%]\n",
            "BuilderProject/tests/test_pepperoni_pizza.py .                                               [100%]\n",
            "\n",
            "======================================== 2 passed in 0.05s =========================================\n",
            "\n",
            "\n",
            ".\n",
            "├── pizza_builder\n",
            "│   ├── builders\n",
            "│   │   ├── abstract\n",
            "│   │   │   └── pizza_builder.py\n",
            "│   │   ├── margherita_pizza_builder.py\n",
            "│   │   └── pepperoni_pizza_builder.py\n",
            "│   ├── product\n",
            "│   │   ├── pizza_parts\n",
            "│   │   │   ├── cheese.py\n",
            "│   │   │   ├── dough.py\n",
            "│   │   │   ├── sauce.py\n",
            "│   │   │   └── toppings.py\n",
            "│   │   └── pizza.py\n",
            "│   └── director.py\n",
            "├── tests\n",
            "│   ├── test_margherita_pizza.py\n",
            "│   └── test_pepperoni_pizza.py\n",
            "├── main.py\n",
            "└── pytest.ini\n",
            "\n",
            "6 directories, 13 files\n"
          ]
        },
        {
          "output_type": "display_data",
          "data": {
            "text/plain": [
              "<IPython.core.display.Javascript object>"
            ],
            "application/javascript": [
              "\n",
              "    async function download(id, filename, size) {\n",
              "      if (!google.colab.kernel.accessAllowed) {\n",
              "        return;\n",
              "      }\n",
              "      const div = document.createElement('div');\n",
              "      const label = document.createElement('label');\n",
              "      label.textContent = `Downloading \"${filename}\": `;\n",
              "      div.appendChild(label);\n",
              "      const progress = document.createElement('progress');\n",
              "      progress.max = size;\n",
              "      div.appendChild(progress);\n",
              "      document.body.appendChild(div);\n",
              "\n",
              "      const buffers = [];\n",
              "      let downloaded = 0;\n",
              "\n",
              "      const channel = await google.colab.kernel.comms.open(id);\n",
              "      // Send a message to notify the kernel that we're ready.\n",
              "      channel.send({})\n",
              "\n",
              "      for await (const message of channel.messages) {\n",
              "        // Send a message to notify the kernel that we're ready.\n",
              "        channel.send({})\n",
              "        if (message.buffers) {\n",
              "          for (const buffer of message.buffers) {\n",
              "            buffers.push(buffer);\n",
              "            downloaded += buffer.byteLength;\n",
              "            progress.value = downloaded;\n",
              "          }\n",
              "        }\n",
              "      }\n",
              "      const blob = new Blob(buffers, {type: 'application/binary'});\n",
              "      const a = document.createElement('a');\n",
              "      a.href = window.URL.createObjectURL(blob);\n",
              "      a.download = filename;\n",
              "      div.appendChild(a);\n",
              "      a.click();\n",
              "      div.remove();\n",
              "    }\n",
              "  "
            ]
          },
          "metadata": {}
        },
        {
          "output_type": "display_data",
          "data": {
            "text/plain": [
              "<IPython.core.display.Javascript object>"
            ],
            "application/javascript": [
              "download(\"download_472096ee-c451-4b1b-87cb-479e648302a3\", \"BuilderProject.zip\", 17992)"
            ]
          },
          "metadata": {}
        }
      ]
    },
    {
      "cell_type": "code",
      "source": [
        "# @title Facade Scaffolder\n",
        "module_manager.set_module('facade')\n",
        "from dict_to_pattern.scaffolders.facade.facade_project_creator import FacadeProjectCreator\n",
        "\n",
        "project_name = \"FacadeProject\"\n",
        "project_structure = {\n",
        "    \"Car\": {\n",
        "        \"Engine\": {\n",
        "            \"Cylinders\": {},\n",
        "            \"Pistons\": {}\n",
        "        },\n",
        "        \"Chassis\": {}\n",
        "    },\n",
        "    \"Driver\": {}\n",
        "}\n",
        "\n",
        "root_module = \"\" # \"machines.vehicles\"\n",
        "creator = FacadeProjectCreator(project_name, project_structure, root_module)\n",
        "creator.create_project()\n",
        "\n",
        "format_code_with_black(project_name)\n",
        "if run_tests(project_name):\n",
        "    print_directory_tree(project_name)\n",
        "    compress_and_download(project_name)\n"
      ],
      "metadata": {
        "colab": {
          "base_uri": "https://localhost:8080/",
          "height": 589
        },
        "id": "GGHHGQLjUgSD",
        "outputId": "d8b474dd-8680-48a0-9444-6d8f77a3f8c6"
      },
      "execution_count": 3,
      "outputs": [
        {
          "output_type": "stream",
          "name": "stdout",
          "text": [
            "Code formatting complete.\n",
            "======================================= test session starts ========================================\n",
            "platform linux -- Python 3.10.12, pytest-7.4.4, pluggy-1.5.0\n",
            "rootdir: /content/FacadeProject\n",
            "configfile: pytest.ini\n",
            "plugins: anyio-3.7.1, typeguard-4.3.0\n",
            "collected 4 items\n",
            "\n",
            "FacadeProject/tests/test_car.py ...                                                          [ 75%]\n",
            "FacadeProject/tests/test_driver.py .                                                         [100%]\n",
            "\n",
            "======================================== 4 passed in 0.03s =========================================\n",
            "\n",
            "\n",
            ".\n",
            "├── car\n",
            "│   ├── car_modules\n",
            "│   │   ├── engine_modules\n",
            "│   │   │   ├── cylinders.py\n",
            "│   │   │   └── pistons.py\n",
            "│   │   ├── chassis.py\n",
            "│   │   └── engine.py\n",
            "│   └── car.py\n",
            "├── driver\n",
            "│   └── driver.py\n",
            "├── tests\n",
            "│   ├── test_car.py\n",
            "│   └── test_driver.py\n",
            "├── main.py\n",
            "└── pytest.ini\n",
            "\n",
            "5 directories, 10 files\n"
          ]
        },
        {
          "output_type": "display_data",
          "data": {
            "text/plain": [
              "<IPython.core.display.Javascript object>"
            ],
            "application/javascript": [
              "\n",
              "    async function download(id, filename, size) {\n",
              "      if (!google.colab.kernel.accessAllowed) {\n",
              "        return;\n",
              "      }\n",
              "      const div = document.createElement('div');\n",
              "      const label = document.createElement('label');\n",
              "      label.textContent = `Downloading \"${filename}\": `;\n",
              "      div.appendChild(label);\n",
              "      const progress = document.createElement('progress');\n",
              "      progress.max = size;\n",
              "      div.appendChild(progress);\n",
              "      document.body.appendChild(div);\n",
              "\n",
              "      const buffers = [];\n",
              "      let downloaded = 0;\n",
              "\n",
              "      const channel = await google.colab.kernel.comms.open(id);\n",
              "      // Send a message to notify the kernel that we're ready.\n",
              "      channel.send({})\n",
              "\n",
              "      for await (const message of channel.messages) {\n",
              "        // Send a message to notify the kernel that we're ready.\n",
              "        channel.send({})\n",
              "        if (message.buffers) {\n",
              "          for (const buffer of message.buffers) {\n",
              "            buffers.push(buffer);\n",
              "            downloaded += buffer.byteLength;\n",
              "            progress.value = downloaded;\n",
              "          }\n",
              "        }\n",
              "      }\n",
              "      const blob = new Blob(buffers, {type: 'application/binary'});\n",
              "      const a = document.createElement('a');\n",
              "      a.href = window.URL.createObjectURL(blob);\n",
              "      a.download = filename;\n",
              "      div.appendChild(a);\n",
              "      a.click();\n",
              "      div.remove();\n",
              "    }\n",
              "  "
            ]
          },
          "metadata": {}
        },
        {
          "output_type": "display_data",
          "data": {
            "text/plain": [
              "<IPython.core.display.Javascript object>"
            ],
            "application/javascript": [
              "download(\"download_7feb2bfc-097e-4db6-9400-933907cac56c\", \"FacadeProject.zip\", 12913)"
            ]
          },
          "metadata": {}
        }
      ]
    },
    {
      "cell_type": "code",
      "source": [
        "# @title State Scaffolder\n",
        "module_manager.set_module('state')\n",
        "from dict_to_pattern.scaffolders.state.state_project_creator import StateProjectCreator\n",
        "\n",
        "project_name = \"StateProject\"\n",
        "project_structure = {\n",
        "    \"context\": \"TrafficLight\",\n",
        "    \"default_state\": \"Red\",\n",
        "    \"state_transitions\": {\n",
        "        \"Red\": [\"Yellow\"],\n",
        "        \"Green\": [\"Yellow\"],\n",
        "        \"Yellow\": [\"Red\", \"Green\"]\n",
        "    },\n",
        "    \"properties\": [\n",
        "        \"timer_duration\",\n",
        "        \"is_operational\"\n",
        "    ],\n",
        "    \"methods\": [\n",
        "        \"adjust_brightness\",\n",
        "        \"switch_to_backup_power\"\n",
        "    ]\n",
        "}\n",
        "\n",
        "root_module = \"\"\n",
        "creator = StateProjectCreator(project_name, project_structure, root_module)\n",
        "creator.create_project()\n",
        "\n",
        "format_code_with_black(project_name)\n",
        "if run_tests(project_name):\n",
        "    print_directory_tree(project_name)\n",
        "    compress_and_download(project_name)\n"
      ],
      "metadata": {
        "colab": {
          "base_uri": "https://localhost:8080/",
          "height": 589
        },
        "id": "Zd59iOCodGhH",
        "outputId": "cbfa5a97-b4ad-454f-a6b2-9b08a59ca180"
      },
      "execution_count": 4,
      "outputs": [
        {
          "output_type": "stream",
          "name": "stdout",
          "text": [
            "Code formatting complete.\n",
            "======================================= test session starts ========================================\n",
            "platform linux -- Python 3.10.12, pytest-7.4.4, pluggy-1.5.0\n",
            "rootdir: /content/StateProject\n",
            "configfile: pytest.ini\n",
            "plugins: anyio-3.7.1, typeguard-4.3.0\n",
            "collected 9 items\n",
            "\n",
            "StateProject/traffic_light/tests/test_green_state.py ...                                     [ 33%]\n",
            "StateProject/traffic_light/tests/test_red_state.py ...                                       [ 66%]\n",
            "StateProject/traffic_light/tests/test_yellow_state.py ...                                    [100%]\n",
            "\n",
            "======================================== 9 passed in 0.04s =========================================\n",
            "\n",
            "\n",
            ".\n",
            "├── traffic_light\n",
            "│   ├── states\n",
            "│   │   ├── abstract\n",
            "│   │   │   └── state.py\n",
            "│   │   ├── green_state.py\n",
            "│   │   ├── red_state.py\n",
            "│   │   └── yellow_state.py\n",
            "│   ├── tests\n",
            "│   │   ├── test_green_state.py\n",
            "│   │   ├── test_red_state.py\n",
            "│   │   └── test_yellow_state.py\n",
            "│   └── traffic_light.py\n",
            "├── main.py\n",
            "└── pytest.ini\n",
            "\n",
            "4 directories, 10 files\n"
          ]
        },
        {
          "output_type": "display_data",
          "data": {
            "text/plain": [
              "<IPython.core.display.Javascript object>"
            ],
            "application/javascript": [
              "\n",
              "    async function download(id, filename, size) {\n",
              "      if (!google.colab.kernel.accessAllowed) {\n",
              "        return;\n",
              "      }\n",
              "      const div = document.createElement('div');\n",
              "      const label = document.createElement('label');\n",
              "      label.textContent = `Downloading \"${filename}\": `;\n",
              "      div.appendChild(label);\n",
              "      const progress = document.createElement('progress');\n",
              "      progress.max = size;\n",
              "      div.appendChild(progress);\n",
              "      document.body.appendChild(div);\n",
              "\n",
              "      const buffers = [];\n",
              "      let downloaded = 0;\n",
              "\n",
              "      const channel = await google.colab.kernel.comms.open(id);\n",
              "      // Send a message to notify the kernel that we're ready.\n",
              "      channel.send({})\n",
              "\n",
              "      for await (const message of channel.messages) {\n",
              "        // Send a message to notify the kernel that we're ready.\n",
              "        channel.send({})\n",
              "        if (message.buffers) {\n",
              "          for (const buffer of message.buffers) {\n",
              "            buffers.push(buffer);\n",
              "            downloaded += buffer.byteLength;\n",
              "            progress.value = downloaded;\n",
              "          }\n",
              "        }\n",
              "      }\n",
              "      const blob = new Blob(buffers, {type: 'application/binary'});\n",
              "      const a = document.createElement('a');\n",
              "      a.href = window.URL.createObjectURL(blob);\n",
              "      a.download = filename;\n",
              "      div.appendChild(a);\n",
              "      a.click();\n",
              "      div.remove();\n",
              "    }\n",
              "  "
            ]
          },
          "metadata": {}
        },
        {
          "output_type": "display_data",
          "data": {
            "text/plain": [
              "<IPython.core.display.Javascript object>"
            ],
            "application/javascript": [
              "download(\"download_56424d26-e9cc-4838-8504-0d49f95ff3fa\", \"StateProject.zip\", 17365)"
            ]
          },
          "metadata": {}
        }
      ]
    },
    {
      "cell_type": "code",
      "source": [
        "# @title Composite Scaffolder\n",
        "module_manager.set_module('composite')\n",
        "from dict_to_pattern.scaffolders.composite.composite_project_creator import CompositeProjectCreator\n",
        "\n",
        "project_name = \"CompositeProject\"\n",
        "project_structure = {\n",
        "    \"leaves\": [\"TextFile\", \"ImageFile\"],\n",
        "    \"component\": \"FileSystemElement\",\n",
        "    \"composite\": \"Directory\",\n",
        "    \"leaf_properties\": {\n",
        "        \"size\": 1024,\n",
        "        \"is_readonly\": True\n",
        "    }\n",
        "}\n",
        "\n",
        "root_module = \"\"\n",
        "creator = CompositeProjectCreator(project_name, project_structure, root_module)\n",
        "creator.create_project()\n",
        "\n",
        "format_code_with_black(project_name)\n",
        "if run_tests(project_name):\n",
        "    print_directory_tree(project_name)\n",
        "    compress_and_download(project_name)\n"
      ],
      "metadata": {
        "colab": {
          "base_uri": "https://localhost:8080/",
          "height": 660
        },
        "id": "KthAIFCO-lig",
        "outputId": "68d2dcf0-e563-406b-d640-5de7b5c4c297"
      },
      "execution_count": 3,
      "outputs": [
        {
          "output_type": "stream",
          "name": "stdout",
          "text": [
            "Code formatting complete.\n",
            "======================================= test session starts ========================================\n",
            "platform linux -- Python 3.10.12, pytest-7.4.4, pluggy-1.5.0\n",
            "rootdir: /content/CompositeProject\n",
            "configfile: pytest.ini\n",
            "plugins: anyio-3.7.1, typeguard-4.3.0\n",
            "collected 10 items\n",
            "\n",
            "CompositeProject/file_system_element/tests/test_image_file.py .....                          [ 50%]\n",
            "CompositeProject/file_system_element/tests/test_text_file.py .....                           [100%]\n",
            "\n",
            "======================================== 10 passed in 0.15s ========================================\n",
            "\n",
            "\n",
            ".\n",
            "├── file_system_element\n",
            "│   ├── abstract\n",
            "│   │   ├── file_system_element_modules\n",
            "│   │   │   ├── data_loader.py\n",
            "│   │   │   └── file_system_element_validator.py\n",
            "│   │   └── file_system_element.py\n",
            "│   ├── components\n",
            "│   │   ├── composite\n",
            "│   │   │   └── directory.py\n",
            "│   │   └── leaves\n",
            "│   │       ├── abstract\n",
            "│   │       │   └── leaf.py\n",
            "│   │       ├── image_file.py\n",
            "│   │       └── text_file.py\n",
            "│   └── tests\n",
            "│       ├── test_image_file.py\n",
            "│       └── test_text_file.py\n",
            "├── main.py\n",
            "└── pytest.ini\n",
            "\n",
            "8 directories, 11 files\n"
          ]
        },
        {
          "output_type": "display_data",
          "data": {
            "text/plain": [
              "<IPython.core.display.Javascript object>"
            ],
            "application/javascript": [
              "\n",
              "    async function download(id, filename, size) {\n",
              "      if (!google.colab.kernel.accessAllowed) {\n",
              "        return;\n",
              "      }\n",
              "      const div = document.createElement('div');\n",
              "      const label = document.createElement('label');\n",
              "      label.textContent = `Downloading \"${filename}\": `;\n",
              "      div.appendChild(label);\n",
              "      const progress = document.createElement('progress');\n",
              "      progress.max = size;\n",
              "      div.appendChild(progress);\n",
              "      document.body.appendChild(div);\n",
              "\n",
              "      const buffers = [];\n",
              "      let downloaded = 0;\n",
              "\n",
              "      const channel = await google.colab.kernel.comms.open(id);\n",
              "      // Send a message to notify the kernel that we're ready.\n",
              "      channel.send({})\n",
              "\n",
              "      for await (const message of channel.messages) {\n",
              "        // Send a message to notify the kernel that we're ready.\n",
              "        channel.send({})\n",
              "        if (message.buffers) {\n",
              "          for (const buffer of message.buffers) {\n",
              "            buffers.push(buffer);\n",
              "            downloaded += buffer.byteLength;\n",
              "            progress.value = downloaded;\n",
              "          }\n",
              "        }\n",
              "      }\n",
              "      const blob = new Blob(buffers, {type: 'application/binary'});\n",
              "      const a = document.createElement('a');\n",
              "      a.href = window.URL.createObjectURL(blob);\n",
              "      a.download = filename;\n",
              "      div.appendChild(a);\n",
              "      a.click();\n",
              "      div.remove();\n",
              "    }\n",
              "  "
            ]
          },
          "metadata": {}
        },
        {
          "output_type": "display_data",
          "data": {
            "text/plain": [
              "<IPython.core.display.Javascript object>"
            ],
            "application/javascript": [
              "download(\"download_4a9dbd1a-a5b9-4c7b-8512-bebd820d6ace\", \"CompositeProject.zip\", 52153)"
            ]
          },
          "metadata": {}
        }
      ]
    }
  ]
}