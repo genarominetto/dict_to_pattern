{
  "nbformat": 4,
  "nbformat_minor": 0,
  "metadata": {
    "colab": {
      "provenance": [],
      "include_colab_link": true
    },
    "kernelspec": {
      "name": "python3",
      "display_name": "Python 3"
    },
    "language_info": {
      "name": "python"
    }
  },
  "cells": [
    {
      "cell_type": "markdown",
      "metadata": {
        "id": "view-in-github",
        "colab_type": "text"
      },
      "source": [
        "<a href=\"https://colab.research.google.com/github/genarominetto/dict_to_pattern/blob/main/main.ipynb\" target=\"_parent\"><img src=\"https://colab.research.google.com/assets/colab-badge.svg\" alt=\"Open In Colab\"/></a>"
      ]
    },
    {
      "cell_type": "code",
      "source": [
        "%%capture\n",
        "# @title Set Up\n",
        "!git clone https://github.com/genarominetto/dict_to_pattern.git\n",
        "import sys\n",
        "import os\n",
        "\n",
        "# Add necessary directories to sys.path\n",
        "sys.path.append('/content/dict_to_pattern/scaffolders/facade')\n",
        "sys.path.append('/content/dict_to_pattern/scaffolders/builder')\n",
        "\n",
        "# Import Facade and Builder Project Creators\n",
        "from dict_to_pattern.scaffolders.facade.facade_project_creator import FacadeProjectCreator\n",
        "from dict_to_pattern.scaffolders.builder.builder_project_creator import BuilderProjectCreator\n",
        "\n",
        "# Change back to the base directory if needed\n",
        "os.chdir('/content')\n",
        "\n",
        "# Import Jupyter utilities\n",
        "from dict_to_pattern.jupyter import compress_and_download\n",
        "from dict_to_pattern.jupyter import run_tests\n"
      ],
      "metadata": {
        "cellView": "form",
        "id": "semmWfDFI44k"
      },
      "execution_count": null,
      "outputs": []
    },
    {
      "cell_type": "code",
      "source": [
        "# @title Facade Scaffolder\n",
        "project_name = \"FacadeProject\"\n",
        "project_structure = {\n",
        "    \"Car\": {\n",
        "        \"Engine\": {\n",
        "            \"Cylinders\": {},\n",
        "            \"Pistons\": {}\n",
        "        },\n",
        "        \"Chassis\": {}\n",
        "    },\n",
        "    \"Driver\": {}\n",
        "}\n",
        "\n",
        "root_module = \"\" # \"machines.vehicles\"\n",
        "creator = FacadeProjectCreator(project_name, project_structure, root_module)\n",
        "creator.create_project()\n",
        "if run_tests(project_name):\n",
        "    compress_and_download(project_name)\n",
        "\n"
      ],
      "metadata": {
        "colab": {
          "base_uri": "https://localhost:8080/",
          "height": 243
        },
        "id": "GGHHGQLjUgSD",
        "outputId": "c37ceeb0-cf35-4df8-d08e-4c35b8546f71",
        "cellView": "form"
      },
      "execution_count": null,
      "outputs": [
        {
          "output_type": "stream",
          "name": "stdout",
          "text": [
            "======================================= test session starts ========================================\n",
            "platform linux -- Python 3.10.12, pytest-7.4.4, pluggy-1.5.0\n",
            "rootdir: /content/FacadeProject\n",
            "configfile: pytest.ini\n",
            "plugins: anyio-3.7.1, typeguard-4.3.0\n",
            "collected 4 items\n",
            "\n",
            "FacadeProject/tests/test_car.py ...                                                          [ 75%]\n",
            "FacadeProject/tests/test_driver.py .                                                         [100%]\n",
            "\n",
            "======================================== 4 passed in 0.17s =========================================\n",
            "\n",
            "\n"
          ]
        },
        {
          "output_type": "display_data",
          "data": {
            "text/plain": [
              "<IPython.core.display.Javascript object>"
            ],
            "application/javascript": [
              "\n",
              "    async function download(id, filename, size) {\n",
              "      if (!google.colab.kernel.accessAllowed) {\n",
              "        return;\n",
              "      }\n",
              "      const div = document.createElement('div');\n",
              "      const label = document.createElement('label');\n",
              "      label.textContent = `Downloading \"${filename}\": `;\n",
              "      div.appendChild(label);\n",
              "      const progress = document.createElement('progress');\n",
              "      progress.max = size;\n",
              "      div.appendChild(progress);\n",
              "      document.body.appendChild(div);\n",
              "\n",
              "      const buffers = [];\n",
              "      let downloaded = 0;\n",
              "\n",
              "      const channel = await google.colab.kernel.comms.open(id);\n",
              "      // Send a message to notify the kernel that we're ready.\n",
              "      channel.send({})\n",
              "\n",
              "      for await (const message of channel.messages) {\n",
              "        // Send a message to notify the kernel that we're ready.\n",
              "        channel.send({})\n",
              "        if (message.buffers) {\n",
              "          for (const buffer of message.buffers) {\n",
              "            buffers.push(buffer);\n",
              "            downloaded += buffer.byteLength;\n",
              "            progress.value = downloaded;\n",
              "          }\n",
              "        }\n",
              "      }\n",
              "      const blob = new Blob(buffers, {type: 'application/binary'});\n",
              "      const a = document.createElement('a');\n",
              "      a.href = window.URL.createObjectURL(blob);\n",
              "      a.download = filename;\n",
              "      div.appendChild(a);\n",
              "      a.click();\n",
              "      div.remove();\n",
              "    }\n",
              "  "
            ]
          },
          "metadata": {}
        },
        {
          "output_type": "display_data",
          "data": {
            "text/plain": [
              "<IPython.core.display.Javascript object>"
            ],
            "application/javascript": [
              "download(\"download_732db595-01a0-4bdd-a9b5-46ead15254ae\", \"FacadeProject.zip\", 12920)"
            ]
          },
          "metadata": {}
        }
      ]
    },
    {
      "cell_type": "code",
      "source": [
        "# @title Builder Scaffolder\n",
        "project_name = \"BuilderProject\"\n",
        "project_structure = {\n",
        "    \"product\": \"VacationHouse\",\n",
        "    \"types\": [\"OceanBeach\", \"RockMountain\"],\n",
        "    \"parts\": [\"FoundationBase\", \"InteriorDesign\"],\n",
        "    \"parent_steps\": [\"prepare_the_foundation\", \"inspect_foundation\"],\n",
        "    \"child_steps\": [\"build_the_structure\", \"finalize_details\"]\n",
        "}\n",
        "\n",
        "root_module = \"\"\n",
        "creator = BuilderProjectCreator(project_name, project_structure, root_module)\n",
        "creator.create_project()\n",
        "if run_tests(project_name):\n",
        "    compress_and_download(project_name)\n",
        "\n"
      ],
      "metadata": {
        "id": "Gxt_9CpSMmCF",
        "outputId": "9d93b6d2-705f-4577-ee75-bce8979702c4",
        "colab": {
          "base_uri": "https://localhost:8080/",
          "height": 243
        },
        "cellView": "form"
      },
      "execution_count": null,
      "outputs": [
        {
          "output_type": "stream",
          "name": "stdout",
          "text": [
            "======================================= test session starts ========================================\n",
            "platform linux -- Python 3.10.12, pytest-7.4.4, pluggy-1.5.0\n",
            "rootdir: /content/BuilderProject\n",
            "configfile: pytest.ini\n",
            "plugins: anyio-3.7.1, typeguard-4.3.0\n",
            "collected 2 items\n",
            "\n",
            "BuilderProject/tests/test_ocean_beach_vacation_house.py .                                    [ 50%]\n",
            "BuilderProject/tests/test_rock_mountain_vacation_house.py .                                  [100%]\n",
            "\n",
            "======================================== 2 passed in 0.10s =========================================\n",
            "\n",
            "\n"
          ]
        },
        {
          "output_type": "display_data",
          "data": {
            "text/plain": [
              "<IPython.core.display.Javascript object>"
            ],
            "application/javascript": [
              "\n",
              "    async function download(id, filename, size) {\n",
              "      if (!google.colab.kernel.accessAllowed) {\n",
              "        return;\n",
              "      }\n",
              "      const div = document.createElement('div');\n",
              "      const label = document.createElement('label');\n",
              "      label.textContent = `Downloading \"${filename}\": `;\n",
              "      div.appendChild(label);\n",
              "      const progress = document.createElement('progress');\n",
              "      progress.max = size;\n",
              "      div.appendChild(progress);\n",
              "      document.body.appendChild(div);\n",
              "\n",
              "      const buffers = [];\n",
              "      let downloaded = 0;\n",
              "\n",
              "      const channel = await google.colab.kernel.comms.open(id);\n",
              "      // Send a message to notify the kernel that we're ready.\n",
              "      channel.send({})\n",
              "\n",
              "      for await (const message of channel.messages) {\n",
              "        // Send a message to notify the kernel that we're ready.\n",
              "        channel.send({})\n",
              "        if (message.buffers) {\n",
              "          for (const buffer of message.buffers) {\n",
              "            buffers.push(buffer);\n",
              "            downloaded += buffer.byteLength;\n",
              "            progress.value = downloaded;\n",
              "          }\n",
              "        }\n",
              "      }\n",
              "      const blob = new Blob(buffers, {type: 'application/binary'});\n",
              "      const a = document.createElement('a');\n",
              "      a.href = window.URL.createObjectURL(blob);\n",
              "      a.download = filename;\n",
              "      div.appendChild(a);\n",
              "      a.click();\n",
              "      div.remove();\n",
              "    }\n",
              "  "
            ]
          },
          "metadata": {}
        },
        {
          "output_type": "display_data",
          "data": {
            "text/plain": [
              "<IPython.core.display.Javascript object>"
            ],
            "application/javascript": [
              "download(\"download_f31493f8-16b1-4128-8413-32b82d867706\", \"BuilderProject.zip\", 17593)"
            ]
          },
          "metadata": {}
        }
      ]
    }
  ]
}